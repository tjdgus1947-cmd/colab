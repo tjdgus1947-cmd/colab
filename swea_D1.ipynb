{
  "nbformat": 4,
  "nbformat_minor": 0,
  "metadata": {
    "colab": {
      "provenance": [],
      "authorship_tag": "ABX9TyMQNlhLGJibJOTbSCQz1E2+",
      "include_colab_link": true
    },
    "kernelspec": {
      "name": "python3",
      "display_name": "Python 3"
    },
    "language_info": {
      "name": "python"
    }
  },
  "cells": [
    {
      "cell_type": "markdown",
      "metadata": {
        "id": "view-in-github",
        "colab_type": "text"
      },
      "source": [
        "<a href=\"https://colab.research.google.com/github/tjdgus1947-cmd/colab/blob/main/swea_D1.ipynb\" target=\"_parent\"><img src=\"https://colab.research.google.com/assets/colab-badge.svg\" alt=\"Open In Colab\"/></a>"
      ]
    },
    {
      "cell_type": "code",
      "execution_count": null,
      "metadata": {
        "colab": {
          "base_uri": "https://localhost:8080/"
        },
        "id": "6NN6EaC3uYhZ",
        "outputId": "d37006a2-376b-4e80-ec56-9b275311df2b"
      },
      "outputs": [
        {
          "output_type": "stream",
          "name": "stdout",
          "text": [
            "9\n",
            "11106\n"
          ]
        }
      ],
      "source": [
        "# [파이썬 프로그래밍 기초(1) 파이썬의 기본 구조와 기초 문법] 4. 변수\n",
        "# 1~9 사이의 정수 a를 입력받아 a + aa + aaa + aaaa 의 값을 계산하는 프로그램을 작성하십시오.\n",
        "\n",
        "n = int(input())\n",
        "result = 0\n",
        "sum = 0\n",
        "for i in range(0,4):\n",
        "  result += n*(10**i)\n",
        "  sum += result\n",
        "\n",
        "print(sum)"
      ]
    },
    {
      "cell_type": "code",
      "source": [
        "# [파이썬 프로그래밍 기초(1) 파이썬의 기본 구조와 기초 문법] 5. 연산자 1\n",
        "# 인치(inch)를 센티미터(cm)으로 변환하는 프로그램을 작성하십시오.\n",
        "# 이 때 1 인치는 2.54 센티미터입니다.\n",
        "\n",
        "n = float(input())\n",
        "n_inch = n*2.54\n",
        "\n",
        "print(f\"{n:.2f}inch => {n_inch}cm\")"
      ],
      "metadata": {
        "colab": {
          "base_uri": "https://localhost:8080/"
        },
        "id": "ReIq3C-5uZQ-",
        "outputId": "d0b975f1-5842-42e2-a44f-de493e214a3d"
      },
      "execution_count": null,
      "outputs": [
        {
          "output_type": "stream",
          "name": "stdout",
          "text": [
            "10\n",
            "10.00inch => 25.4cm\n"
          ]
        }
      ]
    },
    {
      "cell_type": "code",
      "source": [
        "# [파이썬 프로그래밍 기초(1) 파이썬의 기본 구조와 기초 문법] 5. 연산자 2\n",
        "# 킬로그램(kg)를 파운드(lb)으로 변환하는 프로그램을 작성하십시오.\n",
        "# 이 때 1 킬로그램은 2.2046 파운드입니다.\n",
        "\n",
        "n = float(input())\n",
        "n_lb = n*2.2046\n",
        "\n",
        "print(f\"{n:.2f} kg => {n_lb:.2f} lb\")"
      ],
      "metadata": {
        "colab": {
          "base_uri": "https://localhost:8080/"
        },
        "id": "6EF9atJTxQz4",
        "outputId": "ad096b1f-b233-4022-bd1c-a853e7ce3332"
      },
      "execution_count": null,
      "outputs": [
        {
          "output_type": "stream",
          "name": "stdout",
          "text": [
            "90\n",
            "90.00 kg => 198.41 lb\n"
          ]
        }
      ]
    },
    {
      "cell_type": "code",
      "source": [
        "# [파이썬 프로그래밍 기초(1) 파이썬의 기본 구조와 기초 문법] 5. 연산자 3\n",
        "# 섭씨(℃)를 화씨(℉)로 변환하는 프로그램을 작성하십시오.\n",
        "# 이 때 물의 빙점은 화씨 32도이고 비등점은 화씨 212도(표준 기압에서)입니다.\n",
        "# 물의 비등점과 빙점 사이에 정확하게 180도 차이가 납니다.\n",
        "# 그러므로 화씨 눈금에서의 간격은 물의 빙점과 비등점 사이의 간격의 1/180입니다.\n",
        "# 28 -> 82.4\n",
        "\n",
        "n = float(input())\n",
        "n_F = 1.8*n + 32\n",
        "\n",
        "print(f\"{n:.2f} ℃ => {n_F:.2f} ℉\")"
      ],
      "metadata": {
        "colab": {
          "base_uri": "https://localhost:8080/"
        },
        "id": "MehYKXPCXy44",
        "outputId": "80891a48-2546-432f-96f7-bbdb03c9ecd4"
      },
      "execution_count": null,
      "outputs": [
        {
          "output_type": "stream",
          "name": "stdout",
          "text": [
            "28\n",
            "28.00 ℃ => 82.40 ℉\n"
          ]
        }
      ]
    },
    {
      "cell_type": "code",
      "source": [
        "# [파이썬 프로그래밍 기초(1) 파이썬의 기본 구조와 기초 문법] 5. 연산자 4\n",
        "# 화씨(℉)를 섭씨(℃)로 변환하는 프로그램을 작성하십시오.\n",
        "# 이 때 물의 빙점은 화씨 32도이고 비등점은 화씨 212도(표준 기압에서)입니다.\n",
        "# 물의 비등점과 빙점 사이에 정확하게 180도 차이가 납니다.\n",
        "# 그러므로 화씨 눈금에서의 간격은 물의 빙점과 비등점 사이의 간격의 1/180입니다.\n",
        "# 82 -> 27.78\n",
        "\n",
        "n = float(input())\n",
        "n_C = (n-32)/1.8\n",
        "\n",
        "print(f\"{n:.2f}℉ => {n_C:.2f}℃\")"
      ],
      "metadata": {
        "id": "0VLZwyysMJun",
        "colab": {
          "base_uri": "https://localhost:8080/"
        },
        "outputId": "2c8526ff-402b-4cf7-f132-d092b5eeca40"
      },
      "execution_count": 2,
      "outputs": [
        {
          "output_type": "stream",
          "name": "stdout",
          "text": [
            "82\n",
            "82.00℉ => 27.78℃\n"
          ]
        }
      ]
    },
    {
      "cell_type": "code",
      "source": [
        "# [파이썬 프로그래밍 기초(1) 파이썬의 기본 구조와 기초 문법] 5. 연산자 5\n",
        "# 20% 농도의 소금물 100g과 물 200g을 혼합한 소금물의 농도(%)를 소수점 두 번째 자리까지 구하는 프로그램을 작성하십시오.\n",
        "\n",
        "n = 20\n",
        "m = round((n/300)*100,2)\n",
        "\n",
        "print(f\"혼합된 소금물의 농도: {m}%\")"
      ],
      "metadata": {
        "colab": {
          "base_uri": "https://localhost:8080/"
        },
        "id": "KSQ9bsxk93Q0",
        "outputId": "1bf7bc95-de3c-4004-dac6-c4fb58ae73ce"
      },
      "execution_count": 6,
      "outputs": [
        {
          "output_type": "stream",
          "name": "stdout",
          "text": [
            "혼합된 소금물의 농도: 6.67%\n"
          ]
        }
      ]
    },
    {
      "cell_type": "code",
      "source": [
        "# [파이썬 프로그래밍 기초(1) 파이썬의 기본 구조와 기초 문법] 6. 흐름과 제어 - If 1\n",
        "# 다음의 결과와 같이 임의의 양의 정수를 입력받아 그 정수의 모든 약수를 구하십시오\n",
        "# 입력 : 9\n",
        "# 출력\n",
        "# 1(은)는 9의 약수입니다.\n",
        "# 3(은)는 9의 약수입니다.\n",
        "# 9(은)는 9의 약수입니다.\n",
        "\n",
        "n = int(input())\n",
        "for i in range(1, n+1):\n",
        "  if n%i == 0 :\n",
        "    print(f\"{i}(은)는 {n}의 약수입니다.\")"
      ],
      "metadata": {
        "colab": {
          "base_uri": "https://localhost:8080/"
        },
        "id": "WUYjaUYC_Att",
        "outputId": "8cf42100-9e22-43c9-8b58-339c5fa6e039"
      },
      "execution_count": 9,
      "outputs": [
        {
          "output_type": "stream",
          "name": "stdout",
          "text": [
            "9\n",
            "1(은)는 9의 약수입니다.\n",
            "3(은)는 9의 약수입니다.\n",
            "9(은)는 9의 약수입니다.\n"
          ]
        }
      ]
    },
    {
      "cell_type": "code",
      "source": [
        "# [파이썬 프로그래밍 기초(1) 파이썬의 기본 구조와 기초 문법] 6. 흐름과 제어 - If 2\n",
        "# 다음의 결과와 같이 임의의 양의 정수를 입력받아 그 정수의 모든 약수를 구하십시오\n",
        "# (단, 약수가 2개일 경우 소수임을 나타내십시오)\n",
        "# 입력 : 5\n",
        "# 출력\n",
        "# 1(은)는 5의 약수입니다.\n",
        "# 5(은)는 5의 약수입니다.\n",
        "# 5(은)는 1과 5로만 나눌 수 있는 소수입니다.\n",
        "\n",
        "n=int(input())\n",
        "list=[]\n",
        "\n",
        "for i in range(1,n+1):\n",
        "  if n%i==0:\n",
        "    print(f\"{i}(은)는 {n}의 약수입니다.\")\n",
        "    list.append(i)\n",
        "\n",
        "a = list[0]\n",
        "b = list[1]\n",
        "\n",
        "if len(list)==2:\n",
        "  print(f\"{n}(은)는 {a}과 {b}로만 나눌 수 있는 소수입니다.\")"
      ],
      "metadata": {
        "colab": {
          "base_uri": "https://localhost:8080/"
        },
        "id": "u9xUJtoXDSa5",
        "outputId": "a11aac4a-5af1-4524-f11b-5288039db27a"
      },
      "execution_count": 19,
      "outputs": [
        {
          "output_type": "stream",
          "name": "stdout",
          "text": [
            "5\n",
            "1(은)는 5의 약수입니다.\n",
            "5(은)는 5의 약수입니다.\n",
            "5(은)는 1과 5로만 나눌 수 있는 소수입니다.\n"
          ]
        }
      ]
    }
  ]
}