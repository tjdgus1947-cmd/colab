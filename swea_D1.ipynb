{
  "nbformat": 4,
  "nbformat_minor": 0,
  "metadata": {
    "colab": {
      "provenance": [],
      "authorship_tag": "ABX9TyPPoFOjJGqFwrKxHXaauAqf",
      "include_colab_link": true
    },
    "kernelspec": {
      "name": "python3",
      "display_name": "Python 3"
    },
    "language_info": {
      "name": "python"
    }
  },
  "cells": [
    {
      "cell_type": "markdown",
      "metadata": {
        "id": "view-in-github",
        "colab_type": "text"
      },
      "source": [
        "<a href=\"https://colab.research.google.com/github/tjdgus1947-cmd/colab/blob/main/swea_D1.ipynb\" target=\"_parent\"><img src=\"https://colab.research.google.com/assets/colab-badge.svg\" alt=\"Open In Colab\"/></a>"
      ]
    },
    {
      "cell_type": "code",
      "execution_count": null,
      "metadata": {
        "colab": {
          "base_uri": "https://localhost:8080/"
        },
        "id": "6NN6EaC3uYhZ",
        "outputId": "d37006a2-376b-4e80-ec56-9b275311df2b"
      },
      "outputs": [
        {
          "output_type": "stream",
          "name": "stdout",
          "text": [
            "9\n",
            "11106\n"
          ]
        }
      ],
      "source": [
        "# [파이썬 프로그래밍 기초(1) 파이썬의 기본 구조와 기초 문법] 4. 변수\n",
        "# 1~9 사이의 정수 a를 입력받아 a + aa + aaa + aaaa 의 값을 계산하는 프로그램을 작성하십시오.\n",
        "n = int(input())\n",
        "result = 0\n",
        "sum = 0\n",
        "for i in range(0,4):\n",
        "  result += n*(10**i)\n",
        "  sum += result\n",
        "\n",
        "print(sum)"
      ]
    },
    {
      "cell_type": "code",
      "source": [
        "# [파이썬 프로그래밍 기초(1) 파이썬의 기본 구조와 기초 문법] 5. 연산자 1\n",
        "# 인치(inch)를 센티미터(cm)으로 변환하는 프로그램을 작성하십시오.\n",
        "# 이 때 1 인치는 2.54 센티미터입니다.\n",
        "n = float(input())\n",
        "n_inch = n*2.54\n",
        "\n",
        "print(f\"{n:.2f}inch => {n_inch}cm\")"
      ],
      "metadata": {
        "colab": {
          "base_uri": "https://localhost:8080/"
        },
        "id": "ReIq3C-5uZQ-",
        "outputId": "d0b975f1-5842-42e2-a44f-de493e214a3d"
      },
      "execution_count": null,
      "outputs": [
        {
          "output_type": "stream",
          "name": "stdout",
          "text": [
            "10\n",
            "10.00inch => 25.4cm\n"
          ]
        }
      ]
    },
    {
      "cell_type": "code",
      "source": [
        "# [파이썬 프로그래밍 기초(1) 파이썬의 기본 구조와 기초 문법] 5. 연산자 2\n",
        "# 킬로그램(kg)를 파운드(lb)으로 변환하는 프로그램을 작성하십시오.\n",
        "# 이 때 1 킬로그램은 2.2046 파운드입니다.\n",
        "n = float(input())\n",
        "n_lb = n*2.2046\n",
        "\n",
        "print(f\"{n:.2f} kg => {n_lb:.2f} lb\")"
      ],
      "metadata": {
        "colab": {
          "base_uri": "https://localhost:8080/"
        },
        "id": "6EF9atJTxQz4",
        "outputId": "ad096b1f-b233-4022-bd1c-a853e7ce3332"
      },
      "execution_count": null,
      "outputs": [
        {
          "output_type": "stream",
          "name": "stdout",
          "text": [
            "90\n",
            "90.00 kg => 198.41 lb\n"
          ]
        }
      ]
    },
    {
      "cell_type": "code",
      "source": [
        "# [파이썬 프로그래밍 기초(1) 파이썬의 기본 구조와 기초 문법] 5. 연산자 3\n",
        "# 섭씨(℃)를 화씨(℉)로 변환하는 프로그램을 작성하십시오.\n",
        "# 이 때 물의 빙점은 화씨 32도이고 비등점은 화씨 212도(표준 기압에서)입니다.\n",
        "# 물의 비등점과 빙점 사이에 정확하게 180도 차이가 납니다.\n",
        "# 그러므로 화씨 눈금에서의 간격은 물의 빙점과 비등점 사이의 간격의 1/180입니다.\n",
        "# 28 -> 82.4\n",
        "n = float(input())\n",
        "n_F = 1.8*n + 32\n",
        "\n",
        "print(f\"{n:.2f} ℃ => {n_F:.2f} ℉\")"
      ],
      "metadata": {
        "colab": {
          "base_uri": "https://localhost:8080/"
        },
        "id": "MehYKXPCXy44",
        "outputId": "80891a48-2546-432f-96f7-bbdb03c9ecd4"
      },
      "execution_count": 15,
      "outputs": [
        {
          "output_type": "stream",
          "name": "stdout",
          "text": [
            "28\n",
            "28.00 ℃ => 82.40 ℉\n"
          ]
        }
      ]
    }
  ]
}