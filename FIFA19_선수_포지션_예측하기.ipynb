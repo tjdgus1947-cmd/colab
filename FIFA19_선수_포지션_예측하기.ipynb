{
  "nbformat": 4,
  "nbformat_minor": 0,
  "metadata": {
    "colab": {
      "provenance": [],
      "toc_visible": true
    },
    "kernelspec": {
      "name": "python3",
      "display_name": "Python 3"
    },
    "language_info": {
      "name": "python"
    }
  },
  "cells": [
    {
      "cell_type": "code",
      "source": [
        "import pandas as pd\n",
        "import pickle\n",
        "import matplotlib.pyplot as plt\n",
        "import seaborn as sns\n",
        "%matplotlib inline"
      ],
      "metadata": {
        "id": "AabuOCrmip8P"
      },
      "execution_count": null,
      "outputs": []
    },
    {
      "cell_type": "code",
      "execution_count": null,
      "metadata": {
        "id": "5NTR1V9eioQD"
      },
      "outputs": [],
      "source": [
        "data = '/content/FIFAdata.csv'\n",
        "fifa = pd.read_csv(data, encoding=\"cp1252\")"
      ]
    },
    {
      "cell_type": "code",
      "source": [
        "fifa.head()"
      ],
      "metadata": {
        "id": "QQ33d0xzjNBY"
      },
      "execution_count": null,
      "outputs": []
    },
    {
      "cell_type": "code",
      "source": [
        "fifa.columns"
      ],
      "metadata": {
        "id": "srumfy8zXOai"
      },
      "execution_count": null,
      "outputs": []
    },
    {
      "cell_type": "code",
      "source": [
        "fifa1 = pd.DataFrame({'Name': fifa.Name,'Club':fifa.Club,'Position':fifa.Position,}) #선수정보데이터\n",
        "fifa2 = fifa.iloc[:,54:88].astype(float) #스텟데이터\n",
        "\n",
        "td = pd.concat([fifa1,fifa2],axis=1)\n",
        "td"
      ],
      "metadata": {
        "id": "azI3i474jWx5"
      },
      "execution_count": null,
      "outputs": []
    },
    {
      "cell_type": "code",
      "source": [
        "td.Position.value_counts()"
      ],
      "metadata": {
        "id": "pOOzLX2Ok4ke"
      },
      "execution_count": null,
      "outputs": []
    },
    {
      "cell_type": "code",
      "source": [
        "td.loc[td['Position']=='LF', ['Position']] = 'ST'\n",
        "td.loc[td['Position']=='RF', ['Position']] = 'ST'\n",
        "td.loc[td['Position']=='CF', ['Position']] = 'ST'\n",
        "td.loc[td['Position']=='LS', ['Position']] = 'ST'\n",
        "td.loc[td['Position']=='RS', ['Position']] = 'ST'\n",
        "td.loc[td['Position']=='LAM', ['Position']] = 'CAM'\n",
        "td.loc[td['Position']=='RAM', ['Position']] = 'CAM'\n",
        "td.loc[td['Position']=='LCM', ['Position']] = 'CM'\n",
        "td.loc[td['Position']=='RCM', ['Position']] = 'CM'\n",
        "td.loc[td['Position']=='RDM', ['Position']] = 'CDM'\n",
        "td.loc[td['Position']=='LDM', ['Position']] = 'CDM'\n",
        "td.loc[td['Position']=='LW', ['Position']] = 'WF'\n",
        "td.loc[td['Position']=='RW', ['Position']] = 'WF'\n",
        "td.loc[td['Position']=='LB', ['Position']] = 'WB'\n",
        "td.loc[td['Position']=='RB', ['Position']] = 'WB'\n",
        "td.loc[td['Position']=='LWB', ['Position']] = 'WB'\n",
        "td.loc[td['Position']=='RWB', ['Position']] = 'WB'\n",
        "td.loc[td['Position']=='LM', ['Position']] = 'WM'\n",
        "td.loc[td['Position']=='RM', ['Position']] = 'WM'\n",
        "td.loc[td['Position']=='LCB', ['Position']] = 'CB'\n",
        "td.loc[td['Position']=='RCB', ['Position']] = 'CB'"
      ],
      "metadata": {
        "id": "I1LUYZHLlbSq"
      },
      "execution_count": null,
      "outputs": []
    },
    {
      "cell_type": "code",
      "source": [
        "td.Position.value_counts()"
      ],
      "metadata": {
        "id": "I_3JEhwOlfxe"
      },
      "execution_count": null,
      "outputs": []
    },
    {
      "cell_type": "code",
      "source": [
        "td = td.dropna()"
      ],
      "metadata": {
        "id": "4PkhJ2iOljlr"
      },
      "execution_count": null,
      "outputs": []
    },
    {
      "cell_type": "code",
      "source": [
        "from sklearn.model_selection import train_test_split\n",
        "train, test = train_test_split(td, test_size=0.2)"
      ],
      "metadata": {
        "id": "hBCH3VPflmEG"
      },
      "execution_count": null,
      "outputs": []
    },
    {
      "cell_type": "code",
      "source": [
        "train.shape[0]"
      ],
      "metadata": {
        "colab": {
          "base_uri": "https://localhost:8080/"
        },
        "id": "S7nPnEUElz_X",
        "outputId": "40b06b6a-9ee7-4388-bbd3-26351143106e"
      },
      "execution_count": null,
      "outputs": [
        {
          "output_type": "execute_result",
          "data": {
            "text/plain": [
              "14334"
            ]
          },
          "metadata": {},
          "execution_count": 100
        }
      ]
    },
    {
      "cell_type": "code",
      "source": [
        "test.shape[0]"
      ],
      "metadata": {
        "colab": {
          "base_uri": "https://localhost:8080/"
        },
        "id": "NYClsYPIl1sQ",
        "outputId": "e0a2a1d0-977d-4b74-e46a-fdbfd267cb18"
      },
      "execution_count": null,
      "outputs": [
        {
          "output_type": "execute_result",
          "data": {
            "text/plain": [
              "3584"
            ]
          },
          "metadata": {},
          "execution_count": 101
        }
      ]
    },
    {
      "cell_type": "code",
      "source": [
        "with open('/content/gdrive/MyDrive/딥러닝AI.pkl', 'wb') as train_data:\n",
        "    pickle.dump(train, train_data)\n",
        "\n",
        "with open('/content/gdrive/MyDrive/딥러닝AI.pkl', 'wb') as test_data:\n",
        "    pickle.dump(test, test_data)"
      ],
      "metadata": {
        "id": "oDbCPYnRqcYY"
      },
      "execution_count": null,
      "outputs": []
    },
    {
      "cell_type": "code",
      "source": [
        "with open('/content/gdrive/MyDrive/딥러닝AI.pkl', 'rb') as train_data:\n",
        "    train = pickle.load(train_data)\n",
        "\n",
        "with open('/content/gdrive/MyDrive/딥러닝AI.pkl', 'rb') as test_data:\n",
        "    test = pickle.load(test_data)"
      ],
      "metadata": {
        "id": "GzOn8Ap-r7t7"
      },
      "execution_count": null,
      "outputs": []
    },
    {
      "cell_type": "code",
      "source": [
        "from sklearn.neighbors import KNeighborsClassifier\n",
        "from sklearn.model_selection import cross_val_score"
      ],
      "metadata": {
        "id": "Ta8IN__esEqu"
      },
      "execution_count": null,
      "outputs": []
    },
    {
      "cell_type": "code",
      "source": [
        "max_k_range = train.shape[0] // 2\n",
        "k_list = []\n",
        "for i in range(7, max_k_range, 179):\n",
        "    k_list.append(i)\n",
        "\n",
        "cross_validation_scores = []\n",
        "x_train = train.iloc[:,3:37]\n",
        "y_train = train[['Position']]"
      ],
      "metadata": {
        "id": "2aw-TzF6sH1z"
      },
      "execution_count": null,
      "outputs": []
    },
    {
      "cell_type": "code",
      "source": [
        "for k in k_list:\n",
        "    knn = KNeighborsClassifier(n_neighbors=k)\n",
        "    scores = cross_val_score(knn, x_train, y_train.values.ravel(), cv=10, scoring='accuracy')\n",
        "    cross_validation_scores.append(scores.mean())\n",
        "\n",
        "cross_validation_scores"
      ],
      "metadata": {
        "id": "8H9znSJ8sKeu",
        "colab": {
          "base_uri": "https://localhost:8080/"
        },
        "outputId": "2f46d775-8090-4d5b-a765-3f197346e2bb"
      },
      "execution_count": null,
      "outputs": [
        {
          "output_type": "execute_result",
          "data": {
            "text/plain": [
              "[0.7117754158821058,\n",
              " 0.7095337763184513,\n",
              " 0.6855441091797513,\n",
              " 0.6607164532142357,\n",
              " 0.6409097275174679,\n",
              " 0.6177494903596272,\n",
              " 0.5993378565537418,\n",
              " 0.5809238885171409,\n",
              " 0.5421429794120851,\n",
              " 0.44224490748665596]"
            ]
          },
          "metadata": {},
          "execution_count": 106
        }
      ]
    },
    {
      "cell_type": "code",
      "source": [
        "plt.plot(k_list, cross_validation_scores)\n",
        "plt.xlabel('the number of k')\n",
        "plt.ylabel('Accuracy')\n",
        "plt.show()"
      ],
      "metadata": {
        "colab": {
          "base_uri": "https://localhost:8080/",
          "height": 279
        },
        "id": "AZciW9yasQyp",
        "outputId": "9871cb54-e6c7-401d-f55d-0ae31022044b"
      },
      "execution_count": null,
      "outputs": [
        {
          "output_type": "display_data",
          "data": {
            "text/plain": [
              "<Figure size 432x288 with 1 Axes>"
            ],
            "image/png": "[encoded data removed]"
          },
          "metadata": {
            "needs_background": "light"
          }
        }
      ]
    },
    {
      "cell_type": "code",
      "source": [
        "cvs = cross_validation_scores\n",
        "k = k_list[cvs.index(max(cross_validation_scores))]\n",
        "print(\"The best number of k : \" + str(k) )"
      ],
      "metadata": {
        "colab": {
          "base_uri": "https://localhost:8080/"
        },
        "id": "qPA8KxmSsTdw",
        "outputId": "677817e1-d671-4eba-c28b-fc64fcbd91d1"
      },
      "execution_count": null,
      "outputs": [
        {
          "output_type": "stream",
          "name": "stdout",
          "text": [
            "The best number of k : 7\n"
          ]
        }
      ]
    },
    {
      "cell_type": "code",
      "source": [
        "k_list = []\n",
        "for i in range(7, 367, 9):\n",
        "    k_list.append(i)\n",
        "\n",
        "cross_validation_scores2 = []\n",
        "x_train = train.iloc[:,3:37]\n",
        "y_train = train[['Position']]\n",
        "\n",
        "for k in k_list:\n",
        "    knn = KNeighborsClassifier(n_neighbors=k)\n",
        "    scores = cross_val_score(knn, x_train, y_train.values.ravel(), cv=10, scoring='accuracy')\n",
        "    cross_validation_scores2.append(scores.mean())\n",
        "\n",
        "cross_validation_scores2"
      ],
      "metadata": {
        "id": "vxyeOL8vsUWk"
      },
      "execution_count": null,
      "outputs": []
    },
    {
      "cell_type": "code",
      "source": [
        "plt.plot(k_list, cross_validation_scores2)\n",
        "plt.xlabel('the number of k')\n",
        "plt.ylabel('Accuracy')\n",
        "plt.show()"
      ],
      "metadata": {
        "colab": {
          "base_uri": "https://localhost:8080/",
          "height": 279
        },
        "id": "EBBuWmTcswTn",
        "outputId": "2a68c593-d68f-42e1-e175-585610a50de0"
      },
      "execution_count": null,
      "outputs": [
        {
          "output_type": "display_data",
          "data": {
            "text/plain": [
              "<Figure size 432x288 with 1 Axes>"
            ],
            "image/png": "[encoded data removed]"
          },
          "metadata": {
            "needs_background": "light"
          }
        }
      ]
    },
    {
      "cell_type": "code",
      "source": [
        "cvs2 = cross_validation_scores2\n",
        "k = k_list[cvs2.index(max(cross_validation_scores2))]\n",
        "print(\"The best number of k : \" + str(k) )"
      ],
      "metadata": {
        "colab": {
          "base_uri": "https://localhost:8080/"
        },
        "id": "ZTfsfaaasw-A",
        "outputId": "220190ab-2bad-4d53-ae1f-f047553a38e6"
      },
      "execution_count": null,
      "outputs": [
        {
          "output_type": "stream",
          "name": "stdout",
          "text": [
            "The best number of k : 43\n"
          ]
        }
      ]
    },
    {
      "cell_type": "code",
      "source": [
        "k_list = []\n",
        "for i in range(52, 70):\n",
        "    k_list.append(i)\n",
        "\n",
        "cross_validation_scores3 = []\n",
        "x_train = train.iloc[:,3:37]\n",
        "y_train = train[['Position']]\n",
        "\n",
        "for k in k_list:\n",
        "    knn = KNeighborsClassifier(n_neighbors=k)\n",
        "    scores = cross_val_score(knn, x_train, y_train.values.ravel(), cv=10, scoring='accuracy')\n",
        "    cross_validation_scores3.append(scores.mean())\n",
        "\n",
        "cross_validation_scores3"
      ],
      "metadata": {
        "colab": {
          "base_uri": "https://localhost:8080/"
        },
        "id": "JCh6yycJsxDO",
        "outputId": "508144ff-403d-4b32-9484-85d91389a0b6"
      },
      "execution_count": null,
      "outputs": [
        {
          "output_type": "execute_result",
          "data": {
            "text/plain": [
              "[0.7109444297474363,\n",
              " 0.7148472635035247,\n",
              " 0.7134560619971678,\n",
              " 0.7106619878308772,\n",
              " 0.7123379654845086,\n",
              " 0.7103865486064642,\n",
              " 0.7101064409206207,\n",
              " 0.7092668959399947,\n",
              " 0.7078772505874481,\n",
              " 0.7067583759978837,\n",
              " 0.7092692301707102,\n",
              " 0.7095485597796486,\n",
              " 0.7084320194207996,\n",
              " 0.7089899005617715,\n",
              " 0.7103834362988437,\n",
              " 0.7089906786386766,\n",
              " 0.7101072189975257,\n",
              " 0.7106635439846875]"
            ]
          },
          "metadata": {},
          "execution_count": 75
        }
      ]
    },
    {
      "cell_type": "code",
      "source": [
        "plt.plot(k_list, cross_validation_scores3)\n",
        "plt.xlabel('the number of k')\n",
        "plt.ylabel('Accuracy')\n",
        "plt.show()"
      ],
      "metadata": {
        "colab": {
          "base_uri": "https://localhost:8080/",
          "height": 279
        },
        "id": "OnHWKRePsxIA",
        "outputId": "d455a690-bd16-468f-bf6e-4ca919da1e40"
      },
      "execution_count": null,
      "outputs": [
        {
          "output_type": "display_data",
          "data": {
            "text/plain": [
              "<Figure size 432x288 with 1 Axes>"
            ],
            "image/png": "[encoded data removed]"
          },
          "metadata": {
            "needs_background": "light"
          }
        }
      ]
    },
    {
      "cell_type": "code",
      "source": [
        "cvs3 = cross_validation_scores3\n",
        "k = k_list[cvs3.index(max(cross_validation_scores3))]\n",
        "print(\"The best number of k : \" + str(k) )"
      ],
      "metadata": {
        "colab": {
          "base_uri": "https://localhost:8080/"
        },
        "id": "rx__fnK6s70-",
        "outputId": "cd6b2a7f-ce47-4f05-e3df-88d6535dbad3"
      },
      "execution_count": null,
      "outputs": [
        {
          "output_type": "stream",
          "name": "stdout",
          "text": [
            "The best number of k : 53\n"
          ]
        }
      ]
    },
    {
      "cell_type": "code",
      "source": [
        "from sklearn.neighbors import KNeighborsClassifier\n",
        "from sklearn.metrics import accuracy_score\n",
        "\n",
        "knn = KNeighborsClassifier(n_neighbors=k)\n",
        "\n",
        "\n",
        "x_train = train.iloc[:,3:37]\n",
        "\n",
        "y_train = train[['Position']]\n",
        "\n",
        "\n",
        "knn.fit(x_train, y_train.values.ravel())\n",
        "\n",
        "\n",
        "x_test = test.iloc[:,3:37]\n",
        "\n",
        "\n",
        "y_test = test[['Position']]\n",
        "\n",
        "\n",
        "pred = knn.predict(x_test)"
      ],
      "metadata": {
        "id": "RiQ6SaZqs73s"
      },
      "execution_count": null,
      "outputs": []
    },
    {
      "cell_type": "code",
      "source": [
        "comparison = pd.DataFrame(\n",
        "    {'prediction':pred, 'ground_truth':y_test.values.ravel()})\n",
        "comparison"
      ],
      "metadata": {
        "colab": {
          "base_uri": "https://localhost:8080/",
          "height": 424
        },
        "id": "AKkKB1wls76V",
        "outputId": "0436adfb-984a-4738-e8cc-7e428ca1181c"
      },
      "execution_count": null,
      "outputs": [
        {
          "output_type": "execute_result",
          "data": {
            "text/plain": [
              "     prediction ground_truth\n",
              "0            CM           CM\n",
              "1           CAM          CAM\n",
              "2            CB           CB\n",
              "3            CM          CDM\n",
              "4            CM          CDM\n",
              "...         ...          ...\n",
              "3579         ST          CAM\n",
              "3580         CB           CB\n",
              "3581         WM           WM\n",
              "3582         ST           WM\n",
              "3583         CB           CB\n",
              "\n",
              "[3584 rows x 2 columns]"
            ],
            "text/html": [
              "\n",
              "  <div id=\"df-91df82ba-ddbc-40a9-9f56-46a862255ff5\">\n",
              "    <div class=\"colab-df-container\">\n",
              "      <div>\n",
              "<style scoped>\n",
              "    .dataframe tbody tr th:only-of-type {\n",
              "        vertical-align: middle;\n",
              "    }\n",
              "\n",
              "    .dataframe tbody tr th {\n",
              "        vertical-align: top;\n",
              "    }\n",
              "\n",
              "    .dataframe thead th {\n",
              "        text-align: right;\n",
              "    }\n",
              "</style>\n",
              "<table border=\"1\" class=\"dataframe\">\n",
              "  <thead>\n",
              "    <tr style=\"text-align: right;\">\n",
              "      <th></th>\n",
              "      <th>prediction</th>\n",
              "      <th>ground_truth</th>\n",
              "    </tr>\n",
              "  </thead>\n",
              "  <tbody>\n",
              "    <tr>\n",
              "      <th>0</th>\n",
              "      <td>CM</td>\n",
              "      <td>CM</td>\n",
              "    </tr>\n",
              "    <tr>\n",
              "      <th>1</th>\n",
              "      <td>CAM</td>\n",
              "      <td>CAM</td>\n",
              "    </tr>\n",
              "    <tr>\n",
              "      <th>2</th>\n",
              "      <td>CB</td>\n",
              "      <td>CB</td>\n",
              "    </tr>\n",
              "    <tr>\n",
              "      <th>3</th>\n",
              "      <td>CM</td>\n",
              "      <td>CDM</td>\n",
              "    </tr>\n",
              "    <tr>\n",
              "      <th>4</th>\n",
              "      <td>CM</td>\n",
              "      <td>CDM</td>\n",
              "    </tr>\n",
              "    <tr>\n",
              "      <th>...</th>\n",
              "      <td>...</td>\n",
              "      <td>...</td>\n",
              "    </tr>\n",
              "    <tr>\n",
              "      <th>3579</th>\n",
              "      <td>ST</td>\n",
              "      <td>CAM</td>\n",
              "    </tr>\n",
              "    <tr>\n",
              "      <th>3580</th>\n",
              "      <td>CB</td>\n",
              "      <td>CB</td>\n",
              "    </tr>\n",
              "    <tr>\n",
              "      <th>3581</th>\n",
              "      <td>WM</td>\n",
              "      <td>WM</td>\n",
              "    </tr>\n",
              "    <tr>\n",
              "      <th>3582</th>\n",
              "      <td>ST</td>\n",
              "      <td>WM</td>\n",
              "    </tr>\n",
              "    <tr>\n",
              "      <th>3583</th>\n",
              "      <td>CB</td>\n",
              "      <td>CB</td>\n",
              "    </tr>\n",
              "  </tbody>\n",
              "</table>\n",
              "<p>3584 rows × 2 columns</p>\n",
              "</div>\n",
              "      <button class=\"colab-df-convert\" onclick=\"convertToInteractive('df-91df82ba-ddbc-40a9-9f56-46a862255ff5')\"\n",
              "              title=\"Convert this dataframe to an interactive table.\"\n",
              "              style=\"display:none;\">\n",
              "        \n",
              "  <svg xmlns=\"http://www.w3.org/2000/svg\" height=\"24px\"viewBox=\"0 0 24 24\"\n",
              "       width=\"24px\">\n",
              "    <path d=\"M0 0h24v24H0V0z\" fill=\"none\"/>\n",
              "    <path d=\"M18.56 5.44l.94 2.06.94-2.06 2.06-.94-2.06-.94-.94-2.06-.94 2.06-2.06.94zm-11 1L8.5 8.5l.94-2.06 2.06-.94-2.06-.94L8.5 2.5l-.94 2.06-2.06.94zm10 10l.94 2.06.94-2.06 2.06-.94-2.06-.94-.94-2.06-.94 2.06-2.06.94z\"/><path d=\"M17.41 7.96l-1.37-1.37c-.4-.4-.92-.59-1.43-.59-.52 0-1.04.2-1.43.59L10.3 9.45l-7.72 7.72c-.78.78-.78 2.05 0 2.83L4 21.41c.39.39.9.59 1.41.59.51 0 1.02-.2 1.41-.59l7.78-7.78 2.81-2.81c.8-.78.8-2.07 0-2.86zM5.41 20L4 18.59l7.72-7.72 1.47 1.35L5.41 20z\"/>\n",
              "  </svg>\n",
              "      </button>\n",
              "      \n",
              "  <style>\n",
              "    .colab-df-container {\n",
              "      display:flex;\n",
              "      flex-wrap:wrap;\n",
              "      gap: 12px;\n",
              "    }\n",
              "\n",
              "    .colab-df-convert {\n",
              "      background-color: #E8F0FE;\n",
              "      border: none;\n",
              "      border-radius: 50%;\n",
              "      cursor: pointer;\n",
              "      display: none;\n",
              "      fill: #1967D2;\n",
              "      height: 32px;\n",
              "      padding: 0 0 0 0;\n",
              "      width: 32px;\n",
              "    }\n",
              "\n",
              "    .colab-df-convert:hover {\n",
              "      background-color: #E2EBFA;\n",
              "      box-shadow: 0px 1px 2px rgba(60, 64, 67, 0.3), 0px 1px 3px 1px rgba(60, 64, 67, 0.15);\n",
              "      fill: #174EA6;\n",
              "    }\n",
              "\n",
              "    [theme=dark] .colab-df-convert {\n",
              "      background-color: #3B4455;\n",
              "      fill: #D2E3FC;\n",
              "    }\n",
              "\n",
              "    [theme=dark] .colab-df-convert:hover {\n",
              "      background-color: #434B5C;\n",
              "      box-shadow: 0px 1px 3px 1px rgba(0, 0, 0, 0.15);\n",
              "      filter: drop-shadow(0px 1px 2px rgba(0, 0, 0, 0.3));\n",
              "      fill: #FFFFFF;\n",
              "    }\n",
              "  </style>\n",
              "\n",
              "      <script>\n",
              "        const buttonEl =\n",
              "          document.querySelector('#df-91df82ba-ddbc-40a9-9f56-46a862255ff5 button.colab-df-convert');\n",
              "        buttonEl.style.display =\n",
              "          google.colab.kernel.accessAllowed ? 'block' : 'none';\n",
              "\n",
              "        async function convertToInteractive(key) {\n",
              "          const element = document.querySelector('#df-91df82ba-ddbc-40a9-9f56-46a862255ff5');\n",
              "          const dataTable =\n",
              "            await google.colab.kernel.invokeFunction('convertToInteractive',\n",
              "                                                     [key], {});\n",
              "          if (!dataTable) return;\n",
              "\n",
              "          const docLinkHtml = 'Like what you see? Visit the ' +\n",
              "            '<a target=\"_blank\" href=https://colab.research.google.com/notebooks/data_table.ipynb>data table notebook</a>'\n",
              "            + ' to learn more about interactive tables.';\n",
              "          element.innerHTML = '';\n",
              "          dataTable['output_type'] = 'display_data';\n",
              "          await google.colab.output.renderOutput(dataTable, element);\n",
              "          const docLink = document.createElement('div');\n",
              "          docLink.innerHTML = docLinkHtml;\n",
              "          element.appendChild(docLink);\n",
              "        }\n",
              "      </script>\n",
              "    </div>\n",
              "  </div>\n",
              "  "
            ]
          },
          "metadata": {},
          "execution_count": 79
        }
      ]
    },
    {
      "cell_type": "code",
      "source": [
        "print(\"accuracy : \"+\n",
        "          str(accuracy_score(y_test.values.ravel(), pred)) )"
      ],
      "metadata": {
        "colab": {
          "base_uri": "https://localhost:8080/"
        },
        "id": "BUIrA8jjtQEq",
        "outputId": "ee6cf609-d19a-4039-dfad-49b39a927cd9"
      },
      "execution_count": null,
      "outputs": [
        {
          "output_type": "stream",
          "name": "stdout",
          "text": [
            "accuracy : 0.7271205357142857\n"
          ]
        }
      ]
    }
  ]
}